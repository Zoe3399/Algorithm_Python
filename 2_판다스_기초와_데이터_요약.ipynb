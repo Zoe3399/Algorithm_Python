{
  "nbformat": 4,
  "nbformat_minor": 0,
  "metadata": {
    "colab": {
      "provenance": [],
      "authorship_tag": "ABX9TyOYq07A+iB1+AMcgAPqgSqa",
      "include_colab_link": true
    },
    "kernelspec": {
      "name": "python3",
      "display_name": "Python 3"
    },
    "language_info": {
      "name": "python"
    }
  },
  "cells": [
    {
      "cell_type": "markdown",
      "metadata": {
        "id": "view-in-github",
        "colab_type": "text"
      },
      "source": [
        "<a href=\"https://colab.research.google.com/github/Zoe3399/Algorithm_Python/blob/main/2_%ED%8C%90%EB%8B%A4%EC%8A%A4_%EA%B8%B0%EC%B4%88%EC%99%80_%EB%8D%B0%EC%9D%B4%ED%84%B0_%EC%9A%94%EC%95%BD.ipynb\" target=\"_parent\"><img src=\"https://colab.research.google.com/assets/colab-badge.svg\" alt=\"Open In Colab\"/></a>"
      ]
    },
    {
      "cell_type": "code",
      "execution_count": null,
      "metadata": {
        "colab": {
          "base_uri": "https://localhost:8080/"
        },
        "id": "AJMoB9XSxqF_",
        "outputId": "302036a5-a996-4192-8217-97ba6e0f76eb"
      },
      "outputs": [
        {
          "output_type": "stream",
          "name": "stdout",
          "text": [
            "Mounted at /content/drive/\n"
          ]
        }
      ],
      "source": [
        "import os\n",
        "from google.colab import drive\n",
        "drive.mount('/content/drive/')"
      ]
    },
    {
      "cell_type": "code",
      "source": [
        "%cd /content/drive/MyDrive/Data_Science"
      ],
      "metadata": {
        "colab": {
          "base_uri": "https://localhost:8080/"
        },
        "id": "FUkrkWgoxw2V",
        "outputId": "c8d99969-ab71-41f6-944a-8547807ba369"
      },
      "execution_count": null,
      "outputs": [
        {
          "output_type": "stream",
          "name": "stdout",
          "text": [
            "/content/drive/MyDrive/Data_Science\n"
          ]
        }
      ]
    },
    {
      "cell_type": "markdown",
      "source": [
        "## 학습 목표\n",
        "- 데이터 분석을 위한 판다스의 데이터프레임과 시리즈를 이해하며, 실습해보자\n",
        "\n",
        "## KeyWord\n",
        "- DataFrame, Series\n",
        "- read_csv\n",
        "- shape, index, columns, values, dtypes\n",
        "- df.info(), df.describe()\n",
        "- df.isnull().sum(), df.isnull().mean()\n",
        "- df[\"열\"]\n",
        "- df.loc[\"행\"], df.loc[\"행\", \"열\"]"
      ],
      "metadata": {
        "id": "qy2iFlv91HYE"
      }
    },
    {
      "cell_type": "markdown",
      "source": [
        "### 라이브러리 로드"
      ],
      "metadata": {
        "id": "fgn5dUqA1fOj"
      }
    },
    {
      "cell_type": "code",
      "source": [
        "# 데이터 분석을 위한 pandas 라이브러리를 불러옵니다.\n",
        "# 데이터 시각화를 위한 seaborn 을 불러옵니다.\n"
      ],
      "metadata": {
        "id": "QOvGYCb4yEm2"
      },
      "execution_count": null,
      "outputs": []
    },
    {
      "cell_type": "code",
      "source": [],
      "metadata": {
        "id": "gRB_DuTI1iMW"
      },
      "execution_count": null,
      "outputs": []
    },
    {
      "cell_type": "code",
      "source": [
        "print(pd.__version__)\n",
        "print(sns.__version__)"
      ],
      "metadata": {
        "id": "jC4Havnl1iJ5"
      },
      "execution_count": null,
      "outputs": []
    },
    {
      "cell_type": "code",
      "source": [],
      "metadata": {
        "id": "9ucch2Xa1iHA"
      },
      "execution_count": null,
      "outputs": []
    },
    {
      "cell_type": "code",
      "source": [
        "# 0.11.0 버전에서 변화가 많으니 이 버전 이상을 사용해 주세요.\n",
        "# !pip install seaborn --upgrade"
      ],
      "metadata": {
        "id": "_6QnmSk81iEP"
      },
      "execution_count": null,
      "outputs": []
    },
    {
      "cell_type": "markdown",
      "source": [
        "## 데이터셋 불러오기\n",
        "<img src=\"https://pandas.pydata.org/docs/_images/02_io_readwrite.svg\">\n",
        "\n",
        "* seaborn 데이터셋 위치 : https://github.com/mwaskom/seaborn-data"
      ],
      "metadata": {
        "id": "MvPOyGwe1m_c"
      }
    },
    {
      "cell_type": "code",
      "source": [
        "#df"
      ],
      "metadata": {
        "id": "JLBjde4X1h-v"
      },
      "execution_count": 3,
      "outputs": []
    },
    {
      "cell_type": "code",
      "source": [
        "# index값만 보기"
      ],
      "metadata": {
        "id": "BnJeg2Mr1h46"
      },
      "execution_count": 4,
      "outputs": []
    },
    {
      "cell_type": "code",
      "source": [
        "# columns 값만 보기"
      ],
      "metadata": {
        "id": "IdYMsae61ubk"
      },
      "execution_count": 5,
      "outputs": []
    },
    {
      "cell_type": "code",
      "source": [
        "# values 값만 보기"
      ],
      "metadata": {
        "id": "NvzPhUAT1wW5"
      },
      "execution_count": 6,
      "outputs": []
    },
    {
      "cell_type": "code",
      "source": [
        "# 데이터 타입만 보기"
      ],
      "metadata": {
        "id": "FuBn0ryv1x1B"
      },
      "execution_count": 7,
      "outputs": []
    },
    {
      "cell_type": "markdown",
      "source": [
        "### 데이터셋 일부만 가져오기"
      ],
      "metadata": {
        "id": "KWL2c6Ys10gN"
      }
    },
    {
      "cell_type": "code",
      "source": [
        "# head을 통해 일부만 가져오기"
      ],
      "metadata": {
        "id": "TX-SuGHd1y9R"
      },
      "execution_count": 8,
      "outputs": []
    },
    {
      "cell_type": "code",
      "source": [
        "# tail 을 통해 일부만 가져오기\n"
      ],
      "metadata": {
        "id": "CdeDOOKt157d"
      },
      "execution_count": 9,
      "outputs": []
    },
    {
      "cell_type": "code",
      "source": [
        "# sample을 통해 일부만 가져오기\n"
      ],
      "metadata": {
        "id": "_aE2r52817tt"
      },
      "execution_count": 10,
      "outputs": []
    },
    {
      "cell_type": "markdown",
      "source": [
        "### 요약하기"
      ],
      "metadata": {
        "id": "RnM6w7JK19ad"
      }
    },
    {
      "cell_type": "code",
      "source": [
        "# info 를 통해 요약정보 보기\n"
      ],
      "metadata": {
        "id": "2uabKT8Y189t"
      },
      "execution_count": 11,
      "outputs": []
    },
    {
      "cell_type": "markdown",
      "source": [
        "### 결측치 확인"
      ],
      "metadata": {
        "id": "zWXLLKXi2Ayu"
      }
    },
    {
      "cell_type": "code",
      "source": [
        "# 결측치 수 확인"
      ],
      "metadata": {
        "id": "Kg4mokpV2AR0"
      },
      "execution_count": 12,
      "outputs": []
    },
    {
      "cell_type": "code",
      "source": [
        "# 결측치 비율 확인\n"
      ],
      "metadata": {
        "id": "D8w1M9612EzO"
      },
      "execution_count": 13,
      "outputs": []
    },
    {
      "cell_type": "markdown",
      "source": [
        "### 기술 통계"
      ],
      "metadata": {
        "id": "r6iRqO_V2Hfz"
      }
    },
    {
      "cell_type": "code",
      "source": [
        "# describe 로 기술통계 확인하기\n"
      ],
      "metadata": {
        "id": "s9OY9Dfd2GvJ"
      },
      "execution_count": 14,
      "outputs": []
    },
    {
      "cell_type": "code",
      "source": [],
      "metadata": {
        "id": "9YAP-CoV2LcM"
      },
      "execution_count": 14,
      "outputs": []
    },
    {
      "cell_type": "markdown",
      "source": [
        "### Series"
      ],
      "metadata": {
        "id": "EpQz0QWR2NTp"
      }
    },
    {
      "cell_type": "code",
      "source": [],
      "metadata": {
        "id": "neqFO1kN2PAl"
      },
      "execution_count": null,
      "outputs": []
    },
    {
      "cell_type": "markdown",
      "source": [
        "### DataFrame"
      ],
      "metadata": {
        "id": "lr0BX4p12Px9"
      }
    },
    {
      "cell_type": "code",
      "source": [],
      "metadata": {
        "id": "jOoRDcXR2RJt"
      },
      "execution_count": 14,
      "outputs": []
    },
    {
      "cell_type": "markdown",
      "source": [
        "### 색인하기\n",
        "- 열(column) 인덱싱\n",
        "- [컬럼]\n",
        "- [[컬럼1, 컬럼2, 컬럼3]]"
      ],
      "metadata": {
        "id": "ngPnpSeV2TsO"
      }
    },
    {
      "cell_type": "code",
      "source": [],
      "metadata": {
        "id": "5tY2_fjJ2TWr"
      },
      "execution_count": 14,
      "outputs": []
    },
    {
      "cell_type": "markdown",
      "source": [
        "### loc\n",
        "- 행(index) 인덱싱\n",
        "- .loc[행]\n",
        "- .loc[행, 열]\n",
        "- .loc[조건식, 열]"
      ],
      "metadata": {
        "id": "OntkudXx2gHU"
      }
    },
    {
      "cell_type": "code",
      "source": [
        "# loc 로 하나의 행을 가져옵니다.\n"
      ],
      "metadata": {
        "id": "5xO-V2dG2mU3"
      },
      "execution_count": 15,
      "outputs": []
    },
    {
      "cell_type": "code",
      "source": [
        "# loc로 2개의 행을 가져와 봅니다.\n"
      ],
      "metadata": {
        "id": "Rz-xveRS2oCi"
      },
      "execution_count": 16,
      "outputs": []
    },
    {
      "cell_type": "code",
      "source": [
        "# loc로 행, 열을 가져와 봅니다.\n"
      ],
      "metadata": {
        "id": "scXs_BvO2pAz"
      },
      "execution_count": 17,
      "outputs": []
    },
    {
      "cell_type": "code",
      "source": [
        "# loc로 여러개의 행, 열을 가져와 봅니다.\n"
      ],
      "metadata": {
        "id": "FFFHdLl82pj-"
      },
      "execution_count": 18,
      "outputs": []
    },
    {
      "cell_type": "code",
      "source": [],
      "metadata": {
        "id": "f11EUJn72rZb"
      },
      "execution_count": null,
      "outputs": []
    }
  ]
}